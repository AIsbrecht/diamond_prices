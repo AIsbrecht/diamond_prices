{
 "cells": [
  {
   "cell_type": "code",
   "execution_count": 3,
   "metadata": {},
   "outputs": [],
   "source": [
    "import pandas as pd\n",
    "import matplotlib.pyplot as plt\n",
    "import seaborn as sns\n",
    "import numpy as np\n",
    "from scipy import stats"
   ]
  },
  {
   "cell_type": "code",
   "execution_count": 4,
   "metadata": {},
   "outputs": [
    {
     "name": "stdout",
     "output_type": "stream",
     "text": [
      "              Shape    Cut Color Clarity  Carat Weight  Length/Width Ratio  \\\n",
      "0  Cushion Modified  Ideal     F    VVS2          1.84                1.02   \n",
      "1              Pear    NaN     E     VS1          1.20                1.65   \n",
      "2              Oval    NaN     E     VS1          1.19                1.41   \n",
      "3             Heart    NaN     D      IF          1.00                1.18   \n",
      "4           Radiant    NaN     H     VS1          1.01                1.35   \n",
      "\n",
      "   Depth %  Table %     Polish   Symmetry                        Girdle Culet  \\\n",
      "0     65.8     59.0  Excellent  Very Good               Medium to Thick   NaN   \n",
      "1     62.5     58.0  Very Good  Very Good               Medium to Thick   NaN   \n",
      "2     63.1     63.0  Very Good  Very Good               Medium to Thick   NaN   \n",
      "3     61.7     58.0  Excellent  Excellent  Slightly Thick to Very Thick   NaN   \n",
      "4     69.4     66.0  Excellent  Very Good                         Thick   NaN   \n",
      "\n",
      "   Length  Width  Height  Price           Type Fluorescence  \n",
      "0    7.09   6.95    4.57   2640  GIA Lab-Grown          NaN  \n",
      "1    9.64   5.86    3.66   1070  GIA Lab-Grown          NaN  \n",
      "2    8.44   6.00    3.79   1070  GIA Lab-Grown          NaN  \n",
      "3    5.85   6.89    4.25   7110            GIA        Faint  \n",
      "4    6.80   5.05    3.50   3050            GIA          NaN  \n"
     ]
    }
   ],
   "source": [
    "df = pd.read_csv(\"C:\\\\Users\\\\isbre\\\\OneDrive\\\\Documents\\\\GitHub\\\\diamond_prices\\\\data\\\\diamonds.csv\")\n",
    "print(df.head())"
   ]
  },
  {
   "cell_type": "code",
   "execution_count": 5,
   "metadata": {},
   "outputs": [
    {
     "name": "stdout",
     "output_type": "stream",
     "text": [
      "Shape                    5\n",
      "Cut                   4303\n",
      "Color                    5\n",
      "Clarity                  5\n",
      "Carat Weight             5\n",
      "Length/Width Ratio       5\n",
      "Depth %                  7\n",
      "Table %                 17\n",
      "Polish                  20\n",
      "Symmetry                20\n",
      "Girdle                  22\n",
      "Culet                 4594\n",
      "Length                  20\n",
      "Width                   20\n",
      "Height                  20\n",
      "Price                    0\n",
      "Type                     0\n",
      "Fluorescence          5264\n",
      "dtype: int64\n"
     ]
    }
   ],
   "source": [
    "print(df.isna().sum())"
   ]
  },
  {
   "cell_type": "code",
   "execution_count": 6,
   "metadata": {},
   "outputs": [
    {
     "data": {
      "text/html": [
       "<div>\n",
       "<style scoped>\n",
       "    .dataframe tbody tr th:only-of-type {\n",
       "        vertical-align: middle;\n",
       "    }\n",
       "\n",
       "    .dataframe tbody tr th {\n",
       "        vertical-align: top;\n",
       "    }\n",
       "\n",
       "    .dataframe thead th {\n",
       "        text-align: right;\n",
       "    }\n",
       "</style>\n",
       "<table border=\"1\" class=\"dataframe\">\n",
       "  <thead>\n",
       "    <tr style=\"text-align: right;\">\n",
       "      <th></th>\n",
       "      <th>Shape</th>\n",
       "      <th>Color</th>\n",
       "      <th>Clarity</th>\n",
       "      <th>Carat Weight</th>\n",
       "      <th>Length/Width Ratio</th>\n",
       "      <th>Depth %</th>\n",
       "      <th>Table %</th>\n",
       "      <th>Polish</th>\n",
       "      <th>Symmetry</th>\n",
       "      <th>Girdle</th>\n",
       "      <th>Length</th>\n",
       "      <th>Width</th>\n",
       "      <th>Height</th>\n",
       "      <th>Price</th>\n",
       "      <th>Type</th>\n",
       "    </tr>\n",
       "  </thead>\n",
       "  <tbody>\n",
       "    <tr>\n",
       "      <th>0</th>\n",
       "      <td>Cushion Modified</td>\n",
       "      <td>F</td>\n",
       "      <td>VVS2</td>\n",
       "      <td>1.84</td>\n",
       "      <td>1.02</td>\n",
       "      <td>65.8</td>\n",
       "      <td>59.0</td>\n",
       "      <td>Excellent</td>\n",
       "      <td>Very Good</td>\n",
       "      <td>Medium to Thick</td>\n",
       "      <td>7.09</td>\n",
       "      <td>6.95</td>\n",
       "      <td>4.57</td>\n",
       "      <td>2640</td>\n",
       "      <td>GIA Lab-Grown</td>\n",
       "    </tr>\n",
       "    <tr>\n",
       "      <th>1</th>\n",
       "      <td>Pear</td>\n",
       "      <td>E</td>\n",
       "      <td>VS1</td>\n",
       "      <td>1.20</td>\n",
       "      <td>1.65</td>\n",
       "      <td>62.5</td>\n",
       "      <td>58.0</td>\n",
       "      <td>Very Good</td>\n",
       "      <td>Very Good</td>\n",
       "      <td>Medium to Thick</td>\n",
       "      <td>9.64</td>\n",
       "      <td>5.86</td>\n",
       "      <td>3.66</td>\n",
       "      <td>1070</td>\n",
       "      <td>GIA Lab-Grown</td>\n",
       "    </tr>\n",
       "    <tr>\n",
       "      <th>2</th>\n",
       "      <td>Oval</td>\n",
       "      <td>E</td>\n",
       "      <td>VS1</td>\n",
       "      <td>1.19</td>\n",
       "      <td>1.41</td>\n",
       "      <td>63.1</td>\n",
       "      <td>63.0</td>\n",
       "      <td>Very Good</td>\n",
       "      <td>Very Good</td>\n",
       "      <td>Medium to Thick</td>\n",
       "      <td>8.44</td>\n",
       "      <td>6.00</td>\n",
       "      <td>3.79</td>\n",
       "      <td>1070</td>\n",
       "      <td>GIA Lab-Grown</td>\n",
       "    </tr>\n",
       "    <tr>\n",
       "      <th>3</th>\n",
       "      <td>Heart</td>\n",
       "      <td>D</td>\n",
       "      <td>IF</td>\n",
       "      <td>1.00</td>\n",
       "      <td>1.18</td>\n",
       "      <td>61.7</td>\n",
       "      <td>58.0</td>\n",
       "      <td>Excellent</td>\n",
       "      <td>Excellent</td>\n",
       "      <td>Slightly Thick to Very Thick</td>\n",
       "      <td>5.85</td>\n",
       "      <td>6.89</td>\n",
       "      <td>4.25</td>\n",
       "      <td>7110</td>\n",
       "      <td>GIA</td>\n",
       "    </tr>\n",
       "    <tr>\n",
       "      <th>4</th>\n",
       "      <td>Radiant</td>\n",
       "      <td>H</td>\n",
       "      <td>VS1</td>\n",
       "      <td>1.01</td>\n",
       "      <td>1.35</td>\n",
       "      <td>69.4</td>\n",
       "      <td>66.0</td>\n",
       "      <td>Excellent</td>\n",
       "      <td>Very Good</td>\n",
       "      <td>Thick</td>\n",
       "      <td>6.80</td>\n",
       "      <td>5.05</td>\n",
       "      <td>3.50</td>\n",
       "      <td>3050</td>\n",
       "      <td>GIA</td>\n",
       "    </tr>\n",
       "  </tbody>\n",
       "</table>\n",
       "</div>"
      ],
      "text/plain": [
       "              Shape Color Clarity  Carat Weight  Length/Width Ratio  Depth %  \\\n",
       "0  Cushion Modified     F    VVS2          1.84                1.02     65.8   \n",
       "1              Pear     E     VS1          1.20                1.65     62.5   \n",
       "2              Oval     E     VS1          1.19                1.41     63.1   \n",
       "3             Heart     D      IF          1.00                1.18     61.7   \n",
       "4           Radiant     H     VS1          1.01                1.35     69.4   \n",
       "\n",
       "   Table %     Polish   Symmetry                        Girdle  Length  Width  \\\n",
       "0     59.0  Excellent  Very Good               Medium to Thick    7.09   6.95   \n",
       "1     58.0  Very Good  Very Good               Medium to Thick    9.64   5.86   \n",
       "2     63.0  Very Good  Very Good               Medium to Thick    8.44   6.00   \n",
       "3     58.0  Excellent  Excellent  Slightly Thick to Very Thick    5.85   6.89   \n",
       "4     66.0  Excellent  Very Good                         Thick    6.80   5.05   \n",
       "\n",
       "   Height  Price           Type  \n",
       "0    4.57   2640  GIA Lab-Grown  \n",
       "1    3.66   1070  GIA Lab-Grown  \n",
       "2    3.79   1070  GIA Lab-Grown  \n",
       "3    4.25   7110            GIA  \n",
       "4    3.50   3050            GIA  "
      ]
     },
     "execution_count": 6,
     "metadata": {},
     "output_type": "execute_result"
    }
   ],
   "source": [
    "df = df.drop([\"Cut\", \"Culet\", \"Fluorescence\"], axis = 1)\n",
    "df.head()"
   ]
  },
  {
   "cell_type": "code",
   "execution_count": 7,
   "metadata": {},
   "outputs": [
    {
     "name": "stdout",
     "output_type": "stream",
     "text": [
      "1.03\n",
      "Shape                  5\n",
      "Color                  5\n",
      "Clarity                5\n",
      "Carat Weight           0\n",
      "Length/Width Ratio     5\n",
      "Depth %                7\n",
      "Table %               17\n",
      "Polish                20\n",
      "Symmetry              20\n",
      "Girdle                22\n",
      "Length                20\n",
      "Width                 20\n",
      "Height                20\n",
      "Price                  0\n",
      "Type                   0\n",
      "dtype: int64\n"
     ]
    },
    {
     "name": "stderr",
     "output_type": "stream",
     "text": [
      "C:\\Users\\isbre\\AppData\\Local\\Temp\\ipykernel_25684\\3392156275.py:3: FutureWarning: A value is trying to be set on a copy of a DataFrame or Series through chained assignment using an inplace method.\n",
      "The behavior will change in pandas 3.0. This inplace method will never work because the intermediate object on which we are setting values always behaves as a copy.\n",
      "\n",
      "For example, when doing 'df[col].method(value, inplace=True)', try using 'df.method({col: value}, inplace=True)' or df[col] = df[col].method(value) instead, to perform the operation inplace on the original object.\n",
      "\n",
      "\n",
      "  df[\"Carat Weight\"].fillna(Carat_Weight_median, inplace = True)\n"
     ]
    }
   ],
   "source": [
    "Carat_Weight_median = df['Carat Weight'].median()\n",
    "print(Carat_Weight_median)\n",
    "df[\"Carat Weight\"].fillna(Carat_Weight_median, inplace = True)\n",
    "print(df.isna().sum())"
   ]
  },
  {
   "cell_type": "code",
   "execution_count": 8,
   "metadata": {},
   "outputs": [
    {
     "name": "stdout",
     "output_type": "stream",
     "text": [
      "E\n",
      "Shape                  5\n",
      "Color                  0\n",
      "Clarity                5\n",
      "Carat Weight           0\n",
      "Length/Width Ratio     5\n",
      "Depth %                7\n",
      "Table %               17\n",
      "Polish                20\n",
      "Symmetry              20\n",
      "Girdle                22\n",
      "Length                20\n",
      "Width                 20\n",
      "Height                20\n",
      "Price                  0\n",
      "Type                   0\n",
      "dtype: int64\n"
     ]
    },
    {
     "name": "stderr",
     "output_type": "stream",
     "text": [
      "C:\\Users\\isbre\\AppData\\Local\\Temp\\ipykernel_25684\\365476591.py:3: FutureWarning: A value is trying to be set on a copy of a DataFrame or Series through chained assignment using an inplace method.\n",
      "The behavior will change in pandas 3.0. This inplace method will never work because the intermediate object on which we are setting values always behaves as a copy.\n",
      "\n",
      "For example, when doing 'df[col].method(value, inplace=True)', try using 'df.method({col: value}, inplace=True)' or df[col] = df[col].method(value) instead, to perform the operation inplace on the original object.\n",
      "\n",
      "\n",
      "  df[\"Color\"].fillna(color_mode, inplace = True)\n"
     ]
    }
   ],
   "source": [
    "color_mode = df['Color'].mode()[0]\n",
    "print(color_mode)\n",
    "df[\"Color\"].fillna(color_mode, inplace = True)\n",
    "print(df.isna().sum())"
   ]
  },
  {
   "cell_type": "code",
   "execution_count": 9,
   "metadata": {},
   "outputs": [
    {
     "name": "stdout",
     "output_type": "stream",
     "text": [
      "1.27\n",
      "Shape                  5\n",
      "Color                  0\n",
      "Clarity                5\n",
      "Carat Weight           0\n",
      "Length/Width Ratio     0\n",
      "Depth %                7\n",
      "Table %               17\n",
      "Polish                20\n",
      "Symmetry              20\n",
      "Girdle                22\n",
      "Length                20\n",
      "Width                 20\n",
      "Height                20\n",
      "Price                  0\n",
      "Type                   0\n",
      "dtype: int64\n"
     ]
    },
    {
     "name": "stderr",
     "output_type": "stream",
     "text": [
      "C:\\Users\\isbre\\AppData\\Local\\Temp\\ipykernel_25684\\524053740.py:3: FutureWarning: A value is trying to be set on a copy of a DataFrame or Series through chained assignment using an inplace method.\n",
      "The behavior will change in pandas 3.0. This inplace method will never work because the intermediate object on which we are setting values always behaves as a copy.\n",
      "\n",
      "For example, when doing 'df[col].method(value, inplace=True)', try using 'df.method({col: value}, inplace=True)' or df[col] = df[col].method(value) instead, to perform the operation inplace on the original object.\n",
      "\n",
      "\n",
      "  df[\"Length/Width Ratio\"].fillna(L_W_Ratio_median, inplace = True)\n"
     ]
    }
   ],
   "source": [
    "L_W_Ratio_median = df['Length/Width Ratio'].median()\n",
    "print(L_W_Ratio_median)\n",
    "df[\"Length/Width Ratio\"].fillna(L_W_Ratio_median, inplace = True)\n",
    "print(df.isna().sum())"
   ]
  },
  {
   "cell_type": "code",
   "execution_count": 10,
   "metadata": {},
   "outputs": [
    {
     "name": "stdout",
     "output_type": "stream",
     "text": [
      "Round\n",
      "Shape                  0\n",
      "Color                  0\n",
      "Clarity                5\n",
      "Carat Weight           0\n",
      "Length/Width Ratio     0\n",
      "Depth %                7\n",
      "Table %               17\n",
      "Polish                20\n",
      "Symmetry              20\n",
      "Girdle                22\n",
      "Length                20\n",
      "Width                 20\n",
      "Height                20\n",
      "Price                  0\n",
      "Type                   0\n",
      "dtype: int64\n"
     ]
    },
    {
     "name": "stderr",
     "output_type": "stream",
     "text": [
      "C:\\Users\\isbre\\AppData\\Local\\Temp\\ipykernel_25684\\4227217851.py:3: FutureWarning: A value is trying to be set on a copy of a DataFrame or Series through chained assignment using an inplace method.\n",
      "The behavior will change in pandas 3.0. This inplace method will never work because the intermediate object on which we are setting values always behaves as a copy.\n",
      "\n",
      "For example, when doing 'df[col].method(value, inplace=True)', try using 'df.method({col: value}, inplace=True)' or df[col] = df[col].method(value) instead, to perform the operation inplace on the original object.\n",
      "\n",
      "\n",
      "  df[\"Shape\"].fillna(shape_mode, inplace = True)\n"
     ]
    }
   ],
   "source": [
    "shape_mode = df['Shape'].mode()[0]\n",
    "print(shape_mode)\n",
    "df[\"Shape\"].fillna(shape_mode, inplace = True)\n",
    "print(df.isna().sum())"
   ]
  },
  {
   "cell_type": "code",
   "execution_count": 11,
   "metadata": {},
   "outputs": [
    {
     "name": "stdout",
     "output_type": "stream",
     "text": [
      "63.1\n",
      "Shape                  0\n",
      "Color                  0\n",
      "Clarity                5\n",
      "Carat Weight           0\n",
      "Length/Width Ratio     0\n",
      "Depth %                0\n",
      "Table %               17\n",
      "Polish                20\n",
      "Symmetry              20\n",
      "Girdle                22\n",
      "Length                20\n",
      "Width                 20\n",
      "Height                20\n",
      "Price                  0\n",
      "Type                   0\n",
      "dtype: int64\n"
     ]
    },
    {
     "name": "stderr",
     "output_type": "stream",
     "text": [
      "C:\\Users\\isbre\\AppData\\Local\\Temp\\ipykernel_25684\\1976690467.py:3: FutureWarning: A value is trying to be set on a copy of a DataFrame or Series through chained assignment using an inplace method.\n",
      "The behavior will change in pandas 3.0. This inplace method will never work because the intermediate object on which we are setting values always behaves as a copy.\n",
      "\n",
      "For example, when doing 'df[col].method(value, inplace=True)', try using 'df.method({col: value}, inplace=True)' or df[col] = df[col].method(value) instead, to perform the operation inplace on the original object.\n",
      "\n",
      "\n",
      "  df[\"Depth %\"].fillna(Depth_median, inplace = True)\n"
     ]
    }
   ],
   "source": [
    "Depth_median = df['Depth %'].median()\n",
    "print(Depth_median)\n",
    "df[\"Depth %\"].fillna(Depth_median, inplace = True)\n",
    "print(df.isna().sum())"
   ]
  },
  {
   "cell_type": "code",
   "execution_count": 12,
   "metadata": {},
   "outputs": [
    {
     "name": "stdout",
     "output_type": "stream",
     "text": [
      "61.0\n",
      "Shape                  0\n",
      "Color                  0\n",
      "Clarity                5\n",
      "Carat Weight           0\n",
      "Length/Width Ratio     0\n",
      "Depth %                0\n",
      "Table %                0\n",
      "Polish                20\n",
      "Symmetry              20\n",
      "Girdle                22\n",
      "Length                20\n",
      "Width                 20\n",
      "Height                20\n",
      "Price                  0\n",
      "Type                   0\n",
      "dtype: int64\n"
     ]
    },
    {
     "name": "stderr",
     "output_type": "stream",
     "text": [
      "C:\\Users\\isbre\\AppData\\Local\\Temp\\ipykernel_25684\\303005055.py:3: FutureWarning: A value is trying to be set on a copy of a DataFrame or Series through chained assignment using an inplace method.\n",
      "The behavior will change in pandas 3.0. This inplace method will never work because the intermediate object on which we are setting values always behaves as a copy.\n",
      "\n",
      "For example, when doing 'df[col].method(value, inplace=True)', try using 'df.method({col: value}, inplace=True)' or df[col] = df[col].method(value) instead, to perform the operation inplace on the original object.\n",
      "\n",
      "\n",
      "  df[\"Table %\"].fillna(Table_median, inplace = True)\n"
     ]
    }
   ],
   "source": [
    "Table_median = df['Table %'].median()\n",
    "print(Table_median)\n",
    "df[\"Table %\"].fillna(Table_median, inplace = True)\n",
    "print(df.isna().sum())"
   ]
  },
  {
   "cell_type": "code",
   "execution_count": 13,
   "metadata": {},
   "outputs": [
    {
     "name": "stdout",
     "output_type": "stream",
     "text": [
      "7.42\n",
      "Shape                  0\n",
      "Color                  0\n",
      "Clarity                5\n",
      "Carat Weight           0\n",
      "Length/Width Ratio     0\n",
      "Depth %                0\n",
      "Table %                0\n",
      "Polish                20\n",
      "Symmetry              20\n",
      "Girdle                22\n",
      "Length                 0\n",
      "Width                 20\n",
      "Height                20\n",
      "Price                  0\n",
      "Type                   0\n",
      "dtype: int64\n"
     ]
    },
    {
     "name": "stderr",
     "output_type": "stream",
     "text": [
      "C:\\Users\\isbre\\AppData\\Local\\Temp\\ipykernel_25684\\3710675187.py:3: FutureWarning: A value is trying to be set on a copy of a DataFrame or Series through chained assignment using an inplace method.\n",
      "The behavior will change in pandas 3.0. This inplace method will never work because the intermediate object on which we are setting values always behaves as a copy.\n",
      "\n",
      "For example, when doing 'df[col].method(value, inplace=True)', try using 'df.method({col: value}, inplace=True)' or df[col] = df[col].method(value) instead, to perform the operation inplace on the original object.\n",
      "\n",
      "\n",
      "  df[\"Length\"].fillna(Length_median, inplace = True)\n"
     ]
    }
   ],
   "source": [
    "Length_median = df['Length'].median()\n",
    "print(Length_median)\n",
    "df[\"Length\"].fillna(Length_median, inplace = True)\n",
    "print(df.isna().sum())"
   ]
  },
  {
   "cell_type": "code",
   "execution_count": 14,
   "metadata": {},
   "outputs": [
    {
     "name": "stdout",
     "output_type": "stream",
     "text": [
      "5.64\n",
      "Shape                  0\n",
      "Color                  0\n",
      "Clarity                5\n",
      "Carat Weight           0\n",
      "Length/Width Ratio     0\n",
      "Depth %                0\n",
      "Table %                0\n",
      "Polish                20\n",
      "Symmetry              20\n",
      "Girdle                22\n",
      "Length                 0\n",
      "Width                  0\n",
      "Height                20\n",
      "Price                  0\n",
      "Type                   0\n",
      "dtype: int64\n"
     ]
    },
    {
     "name": "stderr",
     "output_type": "stream",
     "text": [
      "C:\\Users\\isbre\\AppData\\Local\\Temp\\ipykernel_25684\\2204401522.py:3: FutureWarning: A value is trying to be set on a copy of a DataFrame or Series through chained assignment using an inplace method.\n",
      "The behavior will change in pandas 3.0. This inplace method will never work because the intermediate object on which we are setting values always behaves as a copy.\n",
      "\n",
      "For example, when doing 'df[col].method(value, inplace=True)', try using 'df.method({col: value}, inplace=True)' or df[col] = df[col].method(value) instead, to perform the operation inplace on the original object.\n",
      "\n",
      "\n",
      "  df[\"Width\"].fillna(Width_median, inplace = True)\n"
     ]
    }
   ],
   "source": [
    "Width_median = df['Width'].median()\n",
    "print(Width_median)\n",
    "df[\"Width\"].fillna(Width_median, inplace = True)\n",
    "print(df.isna().sum())"
   ]
  },
  {
   "cell_type": "code",
   "execution_count": 15,
   "metadata": {},
   "outputs": [
    {
     "name": "stdout",
     "output_type": "stream",
     "text": [
      "3.67\n",
      "Shape                  0\n",
      "Color                  0\n",
      "Clarity                5\n",
      "Carat Weight           0\n",
      "Length/Width Ratio     0\n",
      "Depth %                0\n",
      "Table %                0\n",
      "Polish                20\n",
      "Symmetry              20\n",
      "Girdle                22\n",
      "Length                 0\n",
      "Width                  0\n",
      "Height                 0\n",
      "Price                  0\n",
      "Type                   0\n",
      "dtype: int64\n"
     ]
    },
    {
     "name": "stderr",
     "output_type": "stream",
     "text": [
      "C:\\Users\\isbre\\AppData\\Local\\Temp\\ipykernel_25684\\2467343683.py:3: FutureWarning: A value is trying to be set on a copy of a DataFrame or Series through chained assignment using an inplace method.\n",
      "The behavior will change in pandas 3.0. This inplace method will never work because the intermediate object on which we are setting values always behaves as a copy.\n",
      "\n",
      "For example, when doing 'df[col].method(value, inplace=True)', try using 'df.method({col: value}, inplace=True)' or df[col] = df[col].method(value) instead, to perform the operation inplace on the original object.\n",
      "\n",
      "\n",
      "  df[\"Height\"].fillna(Height_median, inplace = True)\n"
     ]
    }
   ],
   "source": [
    "Height_median = df['Height'].median()\n",
    "print(Height_median)\n",
    "df[\"Height\"].fillna(Height_median, inplace = True)\n",
    "print(df.isna().sum())"
   ]
  },
  {
   "cell_type": "code",
   "execution_count": 16,
   "metadata": {},
   "outputs": [
    {
     "name": "stdout",
     "output_type": "stream",
     "text": [
      "VS1\n",
      "Shape                  0\n",
      "Color                  0\n",
      "Clarity                0\n",
      "Carat Weight           0\n",
      "Length/Width Ratio     0\n",
      "Depth %                0\n",
      "Table %                0\n",
      "Polish                20\n",
      "Symmetry              20\n",
      "Girdle                22\n",
      "Length                 0\n",
      "Width                  0\n",
      "Height                 0\n",
      "Price                  0\n",
      "Type                   0\n",
      "dtype: int64\n"
     ]
    },
    {
     "name": "stderr",
     "output_type": "stream",
     "text": [
      "C:\\Users\\isbre\\AppData\\Local\\Temp\\ipykernel_25684\\1590791358.py:3: FutureWarning: A value is trying to be set on a copy of a DataFrame or Series through chained assignment using an inplace method.\n",
      "The behavior will change in pandas 3.0. This inplace method will never work because the intermediate object on which we are setting values always behaves as a copy.\n",
      "\n",
      "For example, when doing 'df[col].method(value, inplace=True)', try using 'df.method({col: value}, inplace=True)' or df[col] = df[col].method(value) instead, to perform the operation inplace on the original object.\n",
      "\n",
      "\n",
      "  df[\"Clarity\"].fillna(clarity_mode, inplace = True)\n"
     ]
    }
   ],
   "source": [
    "clarity_mode = df['Clarity'].mode()[0]\n",
    "print(clarity_mode)\n",
    "df[\"Clarity\"].fillna(clarity_mode, inplace = True)\n",
    "print(df.isna().sum())"
   ]
  },
  {
   "cell_type": "code",
   "execution_count": 17,
   "metadata": {},
   "outputs": [
    {
     "name": "stdout",
     "output_type": "stream",
     "text": [
      "Excellent\n",
      "Shape                  0\n",
      "Color                  0\n",
      "Clarity                0\n",
      "Carat Weight           0\n",
      "Length/Width Ratio     0\n",
      "Depth %                0\n",
      "Table %                0\n",
      "Polish                 0\n",
      "Symmetry              20\n",
      "Girdle                22\n",
      "Length                 0\n",
      "Width                  0\n",
      "Height                 0\n",
      "Price                  0\n",
      "Type                   0\n",
      "dtype: int64\n"
     ]
    },
    {
     "name": "stderr",
     "output_type": "stream",
     "text": [
      "C:\\Users\\isbre\\AppData\\Local\\Temp\\ipykernel_25684\\3989593312.py:3: FutureWarning: A value is trying to be set on a copy of a DataFrame or Series through chained assignment using an inplace method.\n",
      "The behavior will change in pandas 3.0. This inplace method will never work because the intermediate object on which we are setting values always behaves as a copy.\n",
      "\n",
      "For example, when doing 'df[col].method(value, inplace=True)', try using 'df.method({col: value}, inplace=True)' or df[col] = df[col].method(value) instead, to perform the operation inplace on the original object.\n",
      "\n",
      "\n",
      "  df[\"Polish\"].fillna(polish_mode, inplace = True)\n"
     ]
    }
   ],
   "source": [
    "polish_mode = df['Polish'].mode()[0]\n",
    "print(polish_mode)\n",
    "df[\"Polish\"].fillna(polish_mode, inplace = True)\n",
    "print(df.isna().sum())"
   ]
  },
  {
   "cell_type": "code",
   "execution_count": 18,
   "metadata": {},
   "outputs": [
    {
     "name": "stdout",
     "output_type": "stream",
     "text": [
      "Excellent"
     ]
    },
    {
     "name": "stderr",
     "output_type": "stream",
     "text": [
      "C:\\Users\\isbre\\AppData\\Local\\Temp\\ipykernel_25684\\647450737.py:3: FutureWarning: A value is trying to be set on a copy of a DataFrame or Series through chained assignment using an inplace method.\n",
      "The behavior will change in pandas 3.0. This inplace method will never work because the intermediate object on which we are setting values always behaves as a copy.\n",
      "\n",
      "For example, when doing 'df[col].method(value, inplace=True)', try using 'df.method({col: value}, inplace=True)' or df[col] = df[col].method(value) instead, to perform the operation inplace on the original object.\n",
      "\n",
      "\n",
      "  df[\"Symmetry\"].fillna(symmetry_mode, inplace = True)\n"
     ]
    },
    {
     "name": "stdout",
     "output_type": "stream",
     "text": [
      "\n",
      "Shape                  0\n",
      "Color                  0\n",
      "Clarity                0\n",
      "Carat Weight           0\n",
      "Length/Width Ratio     0\n",
      "Depth %                0\n",
      "Table %                0\n",
      "Polish                 0\n",
      "Symmetry               0\n",
      "Girdle                22\n",
      "Length                 0\n",
      "Width                  0\n",
      "Height                 0\n",
      "Price                  0\n",
      "Type                   0\n",
      "dtype: int64\n"
     ]
    }
   ],
   "source": [
    "symmetry_mode = df['Symmetry'].mode()[0]\n",
    "print(symmetry_mode)\n",
    "df[\"Symmetry\"].fillna(symmetry_mode, inplace = True)\n",
    "print(df.isna().sum())"
   ]
  },
  {
   "cell_type": "code",
   "execution_count": 19,
   "metadata": {},
   "outputs": [
    {
     "name": "stdout",
     "output_type": "stream",
     "text": [
      "Medium to Slightly Thick\n",
      "Shape                 0\n",
      "Color                 0\n",
      "Clarity               0\n",
      "Carat Weight          0\n",
      "Length/Width Ratio    0\n",
      "Depth %               0\n",
      "Table %               0\n",
      "Polish                0\n",
      "Symmetry              0\n",
      "Girdle                0\n",
      "Length                0\n",
      "Width                 0\n",
      "Height                0\n",
      "Price                 0\n",
      "Type                  0\n",
      "dtype: int64\n"
     ]
    },
    {
     "name": "stderr",
     "output_type": "stream",
     "text": [
      "C:\\Users\\isbre\\AppData\\Local\\Temp\\ipykernel_25684\\231390544.py:3: FutureWarning: A value is trying to be set on a copy of a DataFrame or Series through chained assignment using an inplace method.\n",
      "The behavior will change in pandas 3.0. This inplace method will never work because the intermediate object on which we are setting values always behaves as a copy.\n",
      "\n",
      "For example, when doing 'df[col].method(value, inplace=True)', try using 'df.method({col: value}, inplace=True)' or df[col] = df[col].method(value) instead, to perform the operation inplace on the original object.\n",
      "\n",
      "\n",
      "  df[\"Girdle\"].fillna(girdle_mode, inplace = True)\n"
     ]
    }
   ],
   "source": [
    "girdle_mode = df['Girdle'].mode()[0]\n",
    "print(girdle_mode)\n",
    "df[\"Girdle\"].fillna(girdle_mode, inplace = True)\n",
    "print(df.isna().sum())"
   ]
  },
  {
   "cell_type": "code",
   "execution_count": 23,
   "metadata": {},
   "outputs": [
    {
     "name": "stdout",
     "output_type": "stream",
     "text": [
      "      Length/Width Ratio  Depth %  Table %  Length  Width  Height  Price  \\\n",
      "0                   1.02     65.8     59.0    7.09   6.95    4.57   2640   \n",
      "1                   1.65     62.5     58.0    9.64   5.86    3.66   1070   \n",
      "2                   1.41     63.1     63.0    8.44   6.00    3.79   1070   \n",
      "3                   1.18     61.7     58.0    5.85   6.89    4.25   7110   \n",
      "4                   1.35     69.4     66.0    6.80   5.05    3.50   3050   \n",
      "...                  ...      ...      ...     ...    ...     ...    ...   \n",
      "6480                1.54     62.9     63.0    8.60   5.59    3.51   3760   \n",
      "6481                1.16     58.3     59.0    6.05   6.99    4.07   4710   \n",
      "6482                1.01     72.6     71.0    5.59   5.51    4.00   3270   \n",
      "6483                1.43     67.8     62.0    7.24   5.05    3.42   1050   \n",
      "6484                1.36     68.4     66.0    6.51   4.77    3.26   2870   \n",
      "\n",
      "      Shape_Cushion  Shape_Cushion Modified  Shape_Emerald  ...  \\\n",
      "0             False                    True          False  ...   \n",
      "1             False                   False          False  ...   \n",
      "2             False                   False          False  ...   \n",
      "3             False                   False          False  ...   \n",
      "4             False                   False          False  ...   \n",
      "...             ...                     ...            ...  ...   \n",
      "6480          False                   False          False  ...   \n",
      "6481          False                   False          False  ...   \n",
      "6482          False                   False          False  ...   \n",
      "6483          False                   False          False  ...   \n",
      "6484          False                   False           True  ...   \n",
      "\n",
      "      Girdle_Thin to Very Thick  Girdle_Very Thick  \\\n",
      "0                         False              False   \n",
      "1                         False              False   \n",
      "2                         False              False   \n",
      "3                         False              False   \n",
      "4                         False              False   \n",
      "...                         ...                ...   \n",
      "6480                      False              False   \n",
      "6481                      False              False   \n",
      "6482                      False              False   \n",
      "6483                      False              False   \n",
      "6484                      False              False   \n",
      "\n",
      "      Girdle_Very Thick to Extremely Thick  \\\n",
      "0                                    False   \n",
      "1                                    False   \n",
      "2                                    False   \n",
      "3                                    False   \n",
      "4                                    False   \n",
      "...                                    ...   \n",
      "6480                                 False   \n",
      "6481                                 False   \n",
      "6482                                 False   \n",
      "6483                                 False   \n",
      "6484                                 False   \n",
      "\n",
      "      Girdle_Very Thin to Extremely Thick  Girdle_Very Thin to Slightly Thick  \\\n",
      "0                                   False                               False   \n",
      "1                                   False                               False   \n",
      "2                                   False                               False   \n",
      "3                                   False                               False   \n",
      "4                                   False                               False   \n",
      "...                                   ...                                 ...   \n",
      "6480                                False                               False   \n",
      "6481                                False                               False   \n",
      "6482                                False                               False   \n",
      "6483                                False                               False   \n",
      "6484                                False                               False   \n",
      "\n",
      "      Girdle_Very Thin to Thick  Girdle_Very Thin to Very Thick  Type_GIA  \\\n",
      "0                         False                           False     False   \n",
      "1                         False                           False     False   \n",
      "2                         False                           False     False   \n",
      "3                         False                           False      True   \n",
      "4                         False                           False      True   \n",
      "...                         ...                             ...       ...   \n",
      "6480                      False                           False      True   \n",
      "6481                      False                           False      True   \n",
      "6482                      False                           False      True   \n",
      "6483                      False                           False     False   \n",
      "6484                      False                           False      True   \n",
      "\n",
      "      Type_GIA Lab-Grown  Type_IGI Lab-Grown  \n",
      "0                   True               False  \n",
      "1                   True               False  \n",
      "2                   True               False  \n",
      "3                  False               False  \n",
      "4                  False               False  \n",
      "...                  ...                 ...  \n",
      "6480               False               False  \n",
      "6481               False               False  \n",
      "6482               False               False  \n",
      "6483                True               False  \n",
      "6484               False               False  \n",
      "\n",
      "[6485 rows x 320 columns]\n"
     ]
    }
   ],
   "source": [
    "df_encoded = pd.get_dummies(df, columns=[\"Shape\", \"Color\", \"Clarity\", \"Carat Weight\", \"Polish\", \"Symmetry\", \"Girdle\", \"Type\"])\n",
    "print(df_encoded)"
   ]
  }
 ],
 "metadata": {
  "kernelspec": {
   "display_name": "base",
   "language": "python",
   "name": "python3"
  },
  "language_info": {
   "codemirror_mode": {
    "name": "ipython",
    "version": 3
   },
   "file_extension": ".py",
   "mimetype": "text/x-python",
   "name": "python",
   "nbconvert_exporter": "python",
   "pygments_lexer": "ipython3",
   "version": "3.12.4"
  }
 },
 "nbformat": 4,
 "nbformat_minor": 2
}
